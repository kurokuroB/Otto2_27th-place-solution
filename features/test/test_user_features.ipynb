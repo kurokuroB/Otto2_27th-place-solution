{
 "cells": [
  {
   "attachments": {},
   "cell_type": "markdown",
   "metadata": {},
   "source": [
    "user特徴量  \n",
    "参考：https://amalog.hateblo.jp/entry/kaggle-feature-management"
   ]
  },
  {
   "cell_type": "code",
   "execution_count": null,
   "metadata": {},
   "outputs": [],
   "source": [
    "import os\n",
    "import gc\n",
    "from pathlib import Path\n",
    "import numpy as np\n",
    "import pandas as pd\n",
    "import datetime\n",
    "from sklearn.preprocessing import OrdinalEncoder\n",
    "import category_encoders as ce\n",
    "from abc import ABC, abstractmethod\n",
    "from tqdm import tqdm\n",
    "import pickle\n",
    "from collections import defaultdict\n",
    "from typing import List, Dict, Any, Union\n",
    "\n",
    "pd.set_option(\"display.max_columns\", 100)\n",
    "pd.set_option(\"display.max_rows\", 100)\n"
   ]
  },
  {
   "cell_type": "code",
   "execution_count": null,
   "metadata": {},
   "outputs": [],
   "source": [
    "# メモリ削減（数値カラムのみ）\n",
    "def reduce_mem_usage_for_numeric(df):\n",
    "    \"\"\"iterate through  the numeric columns of a dataframe and modify the data type\n",
    "    to reduce memory usage.\n",
    "    \"\"\"\n",
    "    start_mem = df.memory_usage().sum() / 1024**2\n",
    "    print(\"Memory usage of dataframe is {:.2f} MB\".format(start_mem))\n",
    "\n",
    "    for col in df.columns:\n",
    "        col_type = df[col].dtype\n",
    "\n",
    "        if \"int\" in str(col_type) or \"float\" in str(col_type):\n",
    "            c_min = df[col].min()\n",
    "            c_max = df[col].max()\n",
    "            if \"int\" in str(col_type):\n",
    "                if c_min > np.iinfo(np.int8).min and c_max < np.iinfo(np.int8).max:\n",
    "                    df[col] = df[col].astype(np.int8)\n",
    "                elif c_min > np.iinfo(np.int16).min and c_max < np.iinfo(np.int16).max:\n",
    "                    df[col] = df[col].astype(np.int16)\n",
    "                elif c_min > np.iinfo(np.int32).min and c_max < np.iinfo(np.int32).max:\n",
    "                    df[col] = df[col].astype(np.int32)\n",
    "                elif c_min > np.iinfo(np.int64).min and c_max < np.iinfo(np.int64).max:\n",
    "                    df[col] = df[col].astype(np.int64)\n",
    "            elif \"float\" in str(col_type):\n",
    "                # if c_min > np.finfo(np.float16).min and c_max < np.finfo(np.float16).max:\n",
    "                #     df[col] = df[col].astype(np.float16)# サポート対象故\n",
    "                if (\n",
    "                    c_min > np.finfo(np.float32).min\n",
    "                    and c_max < np.finfo(np.float32).max\n",
    "                ):\n",
    "                    df[col] = df[col].astype(np.float32)\n",
    "                else:\n",
    "                    df[col] = df[col].astype(np.float64)\n",
    "\n",
    "    end_mem = df.memory_usage().sum() / 1024**2\n",
    "    print(\"Memory usage after optimization is: {:.2f} MB\".format(end_mem))\n",
    "    print(\"Decreased by {:.1f}%\".format(100 * (start_mem - end_mem) / start_mem))\n",
    "\n",
    "    return df\n"
   ]
  },
  {
   "cell_type": "code",
   "execution_count": null,
   "metadata": {},
   "outputs": [],
   "source": [
    "# 基底クラス。データ出力/保存用のメソッドと、特徴量生成用の抽象メソッドを保有\n",
    "class OttoFeatures(ABC):\n",
    "    def __init__(self, output_dir):\n",
    "        self.output_dir = output_dir\n",
    "        self.name = self.__class__.__name__\n",
    "        self.output_path = Path(self.output_dir) / f\"{self.name}.pkl\"\n",
    "\n",
    "    @abstractmethod\n",
    "    def create_features(self, df):\n",
    "        \"\"\"\n",
    "        処理\n",
    "        \"\"\"\n",
    "        self.output_df = df\n",
    "\n",
    "    # 加工後のdfを返却\n",
    "    def get(self) -> pd.DataFrame:\n",
    "        return self.output_df\n",
    "\n",
    "    # 加工後のdfを保存\n",
    "    def save(self):\n",
    "        self.output_df.to_pickle(self.output_path)\n"
   ]
  },
  {
   "cell_type": "code",
   "execution_count": null,
   "metadata": {},
   "outputs": [],
   "source": [
    "ROOT=\"\" #コンペフォルダ\n",
    "OUTPUT_DIR = \"\"\n",
    "\n",
    "train = pd.read_pickle(\n",
    "    f\"{ROOT}/data/input/processed_data2/train.pkl\"\n",
    ")\n",
    "\n",
    "test = pd.read_pickle(\n",
    "    f\"{ROOT}/data/input/processed_data2/test.pkl\"\n",
    ")\n",
    "\n",
    "train_test = pd.concat([train, test]).reset_index(drop=True)\n",
    "\n",
    "\n"
   ]
  },
  {
   "cell_type": "markdown",
   "metadata": {},
   "source": [
    "# base"
   ]
  },
  {
   "cell_type": "code",
   "execution_count": null,
   "metadata": {},
   "outputs": [],
   "source": [
    "class BaseUserFeatures(OttoFeatures):\n",
    "    def create_features(self):\n",
    "        user_features = test.groupby('session').agg(\n",
    "            {'session': 'count', 'aid': 'nunique', 'type': 'mean'})\n",
    "        user_features.columns = ['user_user_count','user_item_count', 'user_buy_ratio']\n",
    "        \n",
    "        for col in user_features.columns:\n",
    "            user_features[col]=user_features[col].astype(float)\n",
    "        user_features=reduce_mem_usage_for_numeric(user_features)\n",
    "        self.output_df = user_features\n"
   ]
  },
  {
   "cell_type": "code",
   "execution_count": null,
   "metadata": {},
   "outputs": [],
   "source": [
    "buf = BaseUserFeatures(output_dir=OUTPUT_DIR)\n",
    "# 特徴量生成\n",
    "buf.create_features()\n"
   ]
  },
  {
   "cell_type": "code",
   "execution_count": null,
   "metadata": {},
   "outputs": [],
   "source": [
    "buf.get().head()\n"
   ]
  },
  {
   "cell_type": "code",
   "execution_count": null,
   "metadata": {},
   "outputs": [],
   "source": [
    "buf.save()\n"
   ]
  }
 ],
 "metadata": {
  "kernelspec": {
   "display_name": "Python 3.9.13 ('rapids')",
   "language": "python",
   "name": "python3"
  },
  "language_info": {
   "codemirror_mode": {
    "name": "ipython",
    "version": 3
   },
   "file_extension": ".py",
   "mimetype": "text/x-python",
   "name": "python",
   "nbconvert_exporter": "python",
   "pygments_lexer": "ipython3",
   "version": "3.9.13 | packaged by conda-forge | (main, May 27 2022, 16:56:21) \n[GCC 10.3.0]"
  },
  "orig_nbformat": 4,
  "vscode": {
   "interpreter": {
    "hash": "f708a36acfaef0acf74ccd43dfb58100269bf08fb79032a1e0a6f35bd9856f51"
   }
  }
 },
 "nbformat": 4,
 "nbformat_minor": 2
}
