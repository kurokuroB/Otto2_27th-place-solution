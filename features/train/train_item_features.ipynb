{
 "cells": [
  {
   "attachments": {},
   "cell_type": "markdown",
   "metadata": {},
   "source": [
    "item特徴量  \n",
    "参考：https://amalog.hateblo.jp/entry/kaggle-feature-management"
   ]
  },
  {
   "cell_type": "code",
   "execution_count": null,
   "metadata": {},
   "outputs": [],
   "source": [
    "import os\n",
    "import gc\n",
    "from pathlib import Path\n",
    "from collections import Counter\n",
    "from cuml import UMAP, TSNE, PCA, KMeans\n",
    "from matplotlib import pyplot as plt\n",
    "import numpy as np\n",
    "import pandas as pd\n",
    "import datetime\n",
    "from gensim.models import Word2Vec\n",
    "# from sklearn.manifold import TSNE\n",
    "from sklearn.preprocessing import OrdinalEncoder\n",
    "import category_encoders as ce\n",
    "from abc import ABC, abstractmethod\n",
    "from tqdm import tqdm\n",
    "import pickle\n",
    "from collections import defaultdict\n",
    "from typing import List, Dict, Any, Union\n",
    "\n",
    "pd.set_option(\"display.max_columns\", 100)\n",
    "pd.set_option(\"display.max_rows\", 100)\n"
   ]
  },
  {
   "cell_type": "code",
   "execution_count": null,
   "metadata": {},
   "outputs": [],
   "source": [
    "# メモリ削減（数値カラムのみ）\n",
    "def reduce_mem_usage_for_numeric(df):\n",
    "    \"\"\"iterate through  the numeric columns of a dataframe and modify the data type\n",
    "    to reduce memory usage.\n",
    "    \"\"\"\n",
    "    start_mem = df.memory_usage().sum() / 1024**2\n",
    "    print(\"Memory usage of dataframe is {:.2f} MB\".format(start_mem))\n",
    "\n",
    "    for col in df.columns:\n",
    "        col_type = df[col].dtype\n",
    "\n",
    "        if \"int\" in str(col_type) or \"float\" in str(col_type):\n",
    "            c_min = df[col].min()\n",
    "            c_max = df[col].max()\n",
    "            if \"int\" in str(col_type):\n",
    "                if c_min > np.iinfo(np.int8).min and c_max < np.iinfo(np.int8).max:\n",
    "                    df[col] = df[col].astype(np.int8)\n",
    "                elif c_min > np.iinfo(np.int16).min and c_max < np.iinfo(np.int16).max:\n",
    "                    df[col] = df[col].astype(np.int16)\n",
    "                elif c_min > np.iinfo(np.int32).min and c_max < np.iinfo(np.int32).max:\n",
    "                    df[col] = df[col].astype(np.int32)\n",
    "                elif c_min > np.iinfo(np.int64).min and c_max < np.iinfo(np.int64).max:\n",
    "                    df[col] = df[col].astype(np.int64)\n",
    "            elif \"float\" in str(col_type):\n",
    "                # if c_min > np.finfo(np.float16).min and c_max < np.finfo(np.float16).max:\n",
    "                #     df[col] = df[col].astype(np.float16)# サポート対象故\n",
    "                if (\n",
    "                    c_min > np.finfo(np.float32).min\n",
    "                    and c_max < np.finfo(np.float32).max\n",
    "                ):\n",
    "                    df[col] = df[col].astype(np.float32)\n",
    "                else:\n",
    "                    df[col] = df[col].astype(np.float64)\n",
    "\n",
    "    end_mem = df.memory_usage().sum() / 1024**2\n",
    "    print(\"Memory usage after optimization is: {:.2f} MB\".format(end_mem))\n",
    "    print(\"Decreased by {:.1f}%\".format(100 * (start_mem - end_mem) / start_mem))\n",
    "\n",
    "    return df\n"
   ]
  },
  {
   "cell_type": "code",
   "execution_count": null,
   "metadata": {},
   "outputs": [],
   "source": [
    "# 基底クラス。データ出力/保存用のメソッドと、特徴量生成用の抽象メソッドを保有\n",
    "class OttoFeatures(ABC):\n",
    "    def __init__(self, output_dir):\n",
    "        self.output_dir = output_dir\n",
    "        self.name = self.__class__.__name__\n",
    "        self.output_path = Path(self.output_dir) / f\"{self.name}.pkl\"\n",
    "\n",
    "    @abstractmethod\n",
    "    def create_features(self, df):\n",
    "        \"\"\"\n",
    "        処理\n",
    "        \"\"\"\n",
    "        self.output_df = df\n",
    "\n",
    "    # 加工後のdfを返却\n",
    "    def get(self) -> pd.DataFrame:\n",
    "        return self.output_df\n",
    "\n",
    "    # 加工後のdfを保存\n",
    "    def save(self):\n",
    "        self.output_df.to_pickle(self.output_path)\n"
   ]
  },
  {
   "cell_type": "code",
   "execution_count": null,
   "metadata": {},
   "outputs": [],
   "source": [
    "ROOT=\"\" #コンペフォルダ\n",
    "OUTPUT_DIR = \"\"\n",
    "\n",
    "train = pd.read_pickle(\n",
    "    f\"{ROOT}/data/input/trim_train_3week.pkl\"\n",
    ")\n",
    "\n",
    "valid_label = pd.read_pickle(\n",
    "    f\"{ROOT}/data/input/valid_label_1week.pkl\"\n",
    ")\n",
    "valid_session = pd.read_pickle(\n",
    "    f\"{ROOT}/data/input/valid_trimed_session_1week.pkl\"\n",
    ")"
   ]
  },
  {
   "cell_type": "code",
   "execution_count": null,
   "metadata": {},
   "outputs": [],
   "source": [
    "train_valid = pd.concat([train, valid_session]).reset_index(drop=True)"
   ]
  },
  {
   "cell_type": "markdown",
   "metadata": {},
   "source": [
    "# base"
   ]
  },
  {
   "cell_type": "code",
   "execution_count": null,
   "metadata": {},
   "outputs": [],
   "source": [
    "class BaseItemFeatures(OttoFeatures):\n",
    "    def create_features(self):\n",
    "        item_features = train_valid.groupby(\"aid\").agg(\n",
    "            {\"aid\": \"count\", \"session\": \"nunique\", \"type\": \"mean\"}\n",
    "        )\n",
    "        item_features.columns = [\"item_item_count\", \"item_user_count\", \"item_buy_ratio\"]\n",
    "        for col in item_features.columns:\n",
    "            item_features[col]=item_features[col].astype(float)\n",
    "        \n",
    "        item_features=reduce_mem_usage_for_numeric(item_features)\n",
    "        self.output_df = item_features\n"
   ]
  },
  {
   "cell_type": "code",
   "execution_count": null,
   "metadata": {},
   "outputs": [],
   "source": [
    "bif = BaseItemFeatures(output_dir=OUTPUT_DIR)\n",
    "# 特徴量生成\n",
    "bif.create_features()\n",
    "\n"
   ]
  },
  {
   "cell_type": "code",
   "execution_count": null,
   "metadata": {},
   "outputs": [],
   "source": [
    "bif.get().head()"
   ]
  },
  {
   "cell_type": "code",
   "execution_count": null,
   "metadata": {},
   "outputs": [],
   "source": [
    "bif.get().info()"
   ]
  },
  {
   "cell_type": "code",
   "execution_count": null,
   "metadata": {},
   "outputs": [],
   "source": [
    "bif.save()"
   ]
  },
  {
   "cell_type": "markdown",
   "metadata": {},
   "source": [
    "# type count"
   ]
  },
  {
   "cell_type": "code",
   "execution_count": null,
   "metadata": {},
   "outputs": [],
   "source": [
    "class ItemCountFeatures(OttoFeatures):\n",
    "    def create_features(self):\n",
    "        item_features = train_valid.groupby(\"aid\").agg(\n",
    "            {\n",
    "                \"type\": [\n",
    "                    lambda x: float(Counter(x)[0]),\n",
    "                    lambda x: float(Counter(x)[1]),\n",
    "                    lambda x: float(Counter(x)[2]),\n",
    "                ]\n",
    "            }\n",
    "        )\n",
    "        item_features.columns = [\n",
    "            \"item_click_count\",\n",
    "            \"item_cart_count\",\n",
    "            \"item_order_count\",\n",
    "        ]\n",
    "        \n",
    "        item_features= reduce_mem_usage_for_numeric(item_features)\n",
    "        self.output_df = item_features\n"
   ]
  },
  {
   "cell_type": "code",
   "execution_count": null,
   "metadata": {},
   "outputs": [],
   "source": [
    "icf = ItemCountFeatures(output_dir=OUTPUT_DIR)\n",
    "# 特徴量生成\n",
    "icf.create_features()\n"
   ]
  },
  {
   "cell_type": "code",
   "execution_count": null,
   "metadata": {},
   "outputs": [],
   "source": [
    "icf.get().head()"
   ]
  },
  {
   "cell_type": "code",
   "execution_count": null,
   "metadata": {},
   "outputs": [],
   "source": [
    "icf.save()"
   ]
  },
  {
   "attachments": {},
   "cell_type": "markdown",
   "metadata": {},
   "source": [
    "# valid only popularity features"
   ]
  },
  {
   "cell_type": "code",
   "execution_count": null,
   "metadata": {},
   "outputs": [],
   "source": [
    "#valid only\n",
    "class PopularityFeatures(OttoFeatures):\n",
    "    def create_features(self):\n",
    "        popularity=valid_session.aid.value_counts().to_frame().reset_index()\n",
    "        popularity=popularity.rename(columns={'index':'aid', 'aid':'popularity'})\n",
    "        \n",
    "        popularity=reduce_mem_usage_for_numeric(popularity)\n",
    "        self.output_df = popularity\n"
   ]
  },
  {
   "cell_type": "code",
   "execution_count": null,
   "metadata": {},
   "outputs": [],
   "source": [
    "pf=PopularityFeatures(OUTPUT_DIR)\n",
    "pf.create_features()"
   ]
  },
  {
   "cell_type": "code",
   "execution_count": null,
   "metadata": {},
   "outputs": [],
   "source": [
    "pf.get().head()"
   ]
  },
  {
   "cell_type": "code",
   "execution_count": null,
   "metadata": {},
   "outputs": [],
   "source": [
    "pf.save()"
   ]
  },
  {
   "attachments": {},
   "cell_type": "markdown",
   "metadata": {},
   "source": [
    "# valid only type count"
   ]
  },
  {
   "cell_type": "code",
   "execution_count": null,
   "metadata": {},
   "outputs": [],
   "source": [
    "#valid_only\n",
    "class ItemCountFeatures2(OttoFeatures):\n",
    "    def create_features(self):\n",
    "        item_features = valid_session.groupby(\"aid\").agg(\n",
    "            {\n",
    "                \"type\": [\n",
    "                    lambda x: float(Counter(x)[0]),\n",
    "                    lambda x: float(Counter(x)[1]),\n",
    "                    lambda x: float(Counter(x)[2]),\n",
    "                ]\n",
    "            }\n",
    "        )\n",
    "        item_features.columns = [\n",
    "            \"item_click_count2\",\n",
    "            \"item_cart_count2\",\n",
    "            \"item_order_count2\",\n",
    "        ]\n",
    "        \n",
    "        item_features= reduce_mem_usage_for_numeric(item_features)\n",
    "        self.output_df = item_features\n"
   ]
  },
  {
   "cell_type": "code",
   "execution_count": null,
   "metadata": {},
   "outputs": [],
   "source": [
    "icf2=ItemCountFeatures2(OUTPUT_DIR)\n",
    "icf2.create_features()"
   ]
  },
  {
   "cell_type": "code",
   "execution_count": null,
   "metadata": {},
   "outputs": [],
   "source": [
    "icf2.get().head()"
   ]
  },
  {
   "cell_type": "code",
   "execution_count": null,
   "metadata": {},
   "outputs": [],
   "source": [
    "icf2.save()"
   ]
  },
  {
   "attachments": {},
   "cell_type": "markdown",
   "metadata": {},
   "source": [
    "# valid only base"
   ]
  },
  {
   "cell_type": "code",
   "execution_count": null,
   "metadata": {},
   "outputs": [],
   "source": [
    "#valid only\n",
    "class BaseItemFeatures2(OttoFeatures):\n",
    "    def create_features(self):\n",
    "        item_features = valid_session.groupby(\"aid\").agg(\n",
    "            {\"aid\": \"count\", \"session\": \"nunique\", \"type\": \"mean\"}\n",
    "        )\n",
    "        item_features.columns = [\"item_item_count2\", \"item_user_count2\", \"item_buy_ratio2\"]\n",
    "        for col in item_features.columns:\n",
    "            item_features[col]=item_features[col].astype(float)\n",
    "        \n",
    "        item_features=reduce_mem_usage_for_numeric(item_features)\n",
    "        self.output_df = item_features\n"
   ]
  },
  {
   "cell_type": "code",
   "execution_count": null,
   "metadata": {},
   "outputs": [],
   "source": [
    "bif2=BaseItemFeatures2(OUTPUT_DIR)\n",
    "bif2.create_features()"
   ]
  },
  {
   "cell_type": "code",
   "execution_count": null,
   "metadata": {},
   "outputs": [],
   "source": [
    "bif2.get().head()"
   ]
  },
  {
   "cell_type": "code",
   "execution_count": null,
   "metadata": {},
   "outputs": [],
   "source": [
    "bif2.save()"
   ]
  }
 ],
 "metadata": {
  "kernelspec": {
   "display_name": "Python 3.9.13 ('rapids')",
   "language": "python",
   "name": "python3"
  },
  "language_info": {
   "codemirror_mode": {
    "name": "ipython",
    "version": 3
   },
   "file_extension": ".py",
   "mimetype": "text/x-python",
   "name": "python",
   "nbconvert_exporter": "python",
   "pygments_lexer": "ipython3",
   "version": "3.9.13 | packaged by conda-forge | (main, May 27 2022, 16:56:21) \n[GCC 10.3.0]"
  },
  "orig_nbformat": 4,
  "vscode": {
   "interpreter": {
    "hash": "f708a36acfaef0acf74ccd43dfb58100269bf08fb79032a1e0a6f35bd9856f51"
   }
  }
 },
 "nbformat": 4,
 "nbformat_minor": 2
}
